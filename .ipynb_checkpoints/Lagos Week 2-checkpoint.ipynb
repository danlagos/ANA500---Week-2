{
 "cells": [
  {
   "cell_type": "markdown",
   "id": "253a8141",
   "metadata": {},
   "source": [
    "# ANA 500 - Week 2 Homework\n",
    "### Author:  Daniel Lagos"
   ]
  },
  {
   "cell_type": "code",
   "execution_count": 28,
   "id": "7db96d2b",
   "metadata": {},
   "outputs": [],
   "source": [
    "# Libraries\n",
    "import numpy as np\n",
    "import pandas as pd\n",
    "import seaborn as sns\n",
    "import matplotlib as mpl\n",
    "import matplotlib.pyplot as plt"
   ]
  },
  {
   "cell_type": "markdown",
   "id": "7c4722db",
   "metadata": {},
   "source": [
    "## Bring in CHIS 2020 from local hardrive\n",
    "## take zipped file \"adult.zip\" Unzip.  put file path in FILE_LOC"
   ]
  },
  {
   "cell_type": "code",
   "execution_count": 29,
   "id": "750d5ad2",
   "metadata": {
    "scrolled": true
   },
   "outputs": [
    {
     "name": "stderr",
     "output_type": "stream",
     "text": [
      "C:\\Users\\Daniel Lagos\\anaconda3\\lib\\site-packages\\pandas\\io\\sas\\sas_xport.py:475: PerformanceWarning: DataFrame is highly fragmented.  This is usually the result of calling `frame.insert` many times, which has poor performance.  Consider joining all columns at once using pd.concat(axis=1) instead.  To get a de-fragmented frame, use `newframe = frame.copy()`\n",
      "  df[x] = v\n"
     ]
    }
   ],
   "source": [
    "FILE_LOC = 'C:/Users/Daniel Lagos/OneDrive - Loan Simple/Documents/National University/8 - ANA 500/Week 2/ADULT.xpt'\n",
    "df = pd.read_sas(FILE_LOC)"
   ]
  },
  {
   "cell_type": "code",
   "execution_count": 30,
   "id": "861fc23f",
   "metadata": {
    "scrolled": true
   },
   "outputs": [
    {
     "data": {
      "text/html": [
       "<div>\n",
       "<style scoped>\n",
       "    .dataframe tbody tr th:only-of-type {\n",
       "        vertical-align: middle;\n",
       "    }\n",
       "\n",
       "    .dataframe tbody tr th {\n",
       "        vertical-align: top;\n",
       "    }\n",
       "\n",
       "    .dataframe thead th {\n",
       "        text-align: right;\n",
       "    }\n",
       "</style>\n",
       "<table border=\"1\" class=\"dataframe\">\n",
       "  <thead>\n",
       "    <tr style=\"text-align: right;\">\n",
       "      <th></th>\n",
       "      <th>AA5C</th>\n",
       "      <th>AA5G</th>\n",
       "      <th>AH37</th>\n",
       "      <th>AH44</th>\n",
       "      <th>AB1</th>\n",
       "      <th>AB17</th>\n",
       "      <th>AB40</th>\n",
       "      <th>AB41</th>\n",
       "      <th>AB18</th>\n",
       "      <th>AB43</th>\n",
       "      <th>...</th>\n",
       "      <th>RAKEDW71</th>\n",
       "      <th>RAKEDW72</th>\n",
       "      <th>RAKEDW73</th>\n",
       "      <th>RAKEDW74</th>\n",
       "      <th>RAKEDW75</th>\n",
       "      <th>RAKEDW76</th>\n",
       "      <th>RAKEDW77</th>\n",
       "      <th>RAKEDW78</th>\n",
       "      <th>RAKEDW79</th>\n",
       "      <th>RAKEDW80</th>\n",
       "    </tr>\n",
       "  </thead>\n",
       "  <tbody>\n",
       "    <tr>\n",
       "      <th>0</th>\n",
       "      <td>-1.0</td>\n",
       "      <td>-1.0</td>\n",
       "      <td>-1.0</td>\n",
       "      <td>-1.0</td>\n",
       "      <td>3.0</td>\n",
       "      <td>2.0</td>\n",
       "      <td>-1.0</td>\n",
       "      <td>-1.0</td>\n",
       "      <td>-1.0</td>\n",
       "      <td>-1.0</td>\n",
       "      <td>...</td>\n",
       "      <td>1605.912814</td>\n",
       "      <td>1577.479222</td>\n",
       "      <td>1578.109407</td>\n",
       "      <td>1566.686492</td>\n",
       "      <td>1657.063161</td>\n",
       "      <td>1598.357033</td>\n",
       "      <td>1610.132833</td>\n",
       "      <td>1577.495627</td>\n",
       "      <td>1607.168800</td>\n",
       "      <td>1602.605396</td>\n",
       "    </tr>\n",
       "    <tr>\n",
       "      <th>1</th>\n",
       "      <td>-1.0</td>\n",
       "      <td>-1.0</td>\n",
       "      <td>-1.0</td>\n",
       "      <td>1.0</td>\n",
       "      <td>2.0</td>\n",
       "      <td>2.0</td>\n",
       "      <td>-1.0</td>\n",
       "      <td>-1.0</td>\n",
       "      <td>-1.0</td>\n",
       "      <td>-1.0</td>\n",
       "      <td>...</td>\n",
       "      <td>1558.197812</td>\n",
       "      <td>1513.430922</td>\n",
       "      <td>1537.924152</td>\n",
       "      <td>1537.402328</td>\n",
       "      <td>1529.306613</td>\n",
       "      <td>1544.735340</td>\n",
       "      <td>1531.233715</td>\n",
       "      <td>1557.723321</td>\n",
       "      <td>1562.932975</td>\n",
       "      <td>1503.820145</td>\n",
       "    </tr>\n",
       "    <tr>\n",
       "      <th>2</th>\n",
       "      <td>-1.0</td>\n",
       "      <td>-1.0</td>\n",
       "      <td>-1.0</td>\n",
       "      <td>-1.0</td>\n",
       "      <td>2.0</td>\n",
       "      <td>2.0</td>\n",
       "      <td>-1.0</td>\n",
       "      <td>-1.0</td>\n",
       "      <td>-1.0</td>\n",
       "      <td>-1.0</td>\n",
       "      <td>...</td>\n",
       "      <td>1211.750536</td>\n",
       "      <td>1212.772970</td>\n",
       "      <td>1202.982303</td>\n",
       "      <td>1225.293304</td>\n",
       "      <td>1248.000638</td>\n",
       "      <td>1216.821869</td>\n",
       "      <td>1233.241885</td>\n",
       "      <td>1201.254104</td>\n",
       "      <td>1201.887010</td>\n",
       "      <td>1218.093974</td>\n",
       "    </tr>\n",
       "    <tr>\n",
       "      <th>3</th>\n",
       "      <td>-1.0</td>\n",
       "      <td>-1.0</td>\n",
       "      <td>-1.0</td>\n",
       "      <td>-1.0</td>\n",
       "      <td>3.0</td>\n",
       "      <td>1.0</td>\n",
       "      <td>1.0</td>\n",
       "      <td>2.0</td>\n",
       "      <td>2.0</td>\n",
       "      <td>2.0</td>\n",
       "      <td>...</td>\n",
       "      <td>590.153646</td>\n",
       "      <td>604.817107</td>\n",
       "      <td>596.879484</td>\n",
       "      <td>594.582363</td>\n",
       "      <td>587.412696</td>\n",
       "      <td>590.762356</td>\n",
       "      <td>589.418840</td>\n",
       "      <td>598.307511</td>\n",
       "      <td>1195.997735</td>\n",
       "      <td>581.912369</td>\n",
       "    </tr>\n",
       "    <tr>\n",
       "      <th>4</th>\n",
       "      <td>-1.0</td>\n",
       "      <td>1.0</td>\n",
       "      <td>-1.0</td>\n",
       "      <td>1.0</td>\n",
       "      <td>4.0</td>\n",
       "      <td>2.0</td>\n",
       "      <td>-1.0</td>\n",
       "      <td>-1.0</td>\n",
       "      <td>-1.0</td>\n",
       "      <td>-1.0</td>\n",
       "      <td>...</td>\n",
       "      <td>194.059102</td>\n",
       "      <td>188.468808</td>\n",
       "      <td>201.853958</td>\n",
       "      <td>195.711101</td>\n",
       "      <td>200.749310</td>\n",
       "      <td>191.936914</td>\n",
       "      <td>206.431383</td>\n",
       "      <td>205.310211</td>\n",
       "      <td>449.979358</td>\n",
       "      <td>197.861495</td>\n",
       "    </tr>\n",
       "  </tbody>\n",
       "</table>\n",
       "<p>5 rows × 604 columns</p>\n",
       "</div>"
      ],
      "text/plain": [
       "   AA5C  AA5G  AH37  AH44  AB1  AB17  AB40  AB41  AB18  AB43  ...  \\\n",
       "0  -1.0  -1.0  -1.0  -1.0  3.0   2.0  -1.0  -1.0  -1.0  -1.0  ...   \n",
       "1  -1.0  -1.0  -1.0   1.0  2.0   2.0  -1.0  -1.0  -1.0  -1.0  ...   \n",
       "2  -1.0  -1.0  -1.0  -1.0  2.0   2.0  -1.0  -1.0  -1.0  -1.0  ...   \n",
       "3  -1.0  -1.0  -1.0  -1.0  3.0   1.0   1.0   2.0   2.0   2.0  ...   \n",
       "4  -1.0   1.0  -1.0   1.0  4.0   2.0  -1.0  -1.0  -1.0  -1.0  ...   \n",
       "\n",
       "      RAKEDW71     RAKEDW72     RAKEDW73     RAKEDW74     RAKEDW75  \\\n",
       "0  1605.912814  1577.479222  1578.109407  1566.686492  1657.063161   \n",
       "1  1558.197812  1513.430922  1537.924152  1537.402328  1529.306613   \n",
       "2  1211.750536  1212.772970  1202.982303  1225.293304  1248.000638   \n",
       "3   590.153646   604.817107   596.879484   594.582363   587.412696   \n",
       "4   194.059102   188.468808   201.853958   195.711101   200.749310   \n",
       "\n",
       "      RAKEDW76     RAKEDW77     RAKEDW78     RAKEDW79     RAKEDW80  \n",
       "0  1598.357033  1610.132833  1577.495627  1607.168800  1602.605396  \n",
       "1  1544.735340  1531.233715  1557.723321  1562.932975  1503.820145  \n",
       "2  1216.821869  1233.241885  1201.254104  1201.887010  1218.093974  \n",
       "3   590.762356   589.418840   598.307511  1195.997735   581.912369  \n",
       "4   191.936914   206.431383   205.310211   449.979358   197.861495  \n",
       "\n",
       "[5 rows x 604 columns]"
      ]
     },
     "execution_count": 30,
     "metadata": {},
     "output_type": "execute_result"
    }
   ],
   "source": [
    "df.head()"
   ]
  },
  {
   "cell_type": "code",
   "execution_count": 31,
   "id": "d376f5bd",
   "metadata": {
    "scrolled": true
   },
   "outputs": [
    {
     "data": {
      "text/plain": [
       "(21949, 604)"
      ]
     },
     "execution_count": 31,
     "metadata": {},
     "output_type": "execute_result"
    }
   ],
   "source": [
    "df.shape"
   ]
  },
  {
   "cell_type": "code",
   "execution_count": 32,
   "id": "8e21988e",
   "metadata": {},
   "outputs": [
    {
     "data": {
      "text/html": [
       "<div>\n",
       "<style scoped>\n",
       "    .dataframe tbody tr th:only-of-type {\n",
       "        vertical-align: middle;\n",
       "    }\n",
       "\n",
       "    .dataframe tbody tr th {\n",
       "        vertical-align: top;\n",
       "    }\n",
       "\n",
       "    .dataframe thead th {\n",
       "        text-align: right;\n",
       "    }\n",
       "</style>\n",
       "<table border=\"1\" class=\"dataframe\">\n",
       "  <thead>\n",
       "    <tr style=\"text-align: right;\">\n",
       "      <th></th>\n",
       "      <th>AA5C</th>\n",
       "      <th>AA5G</th>\n",
       "      <th>AH37</th>\n",
       "      <th>AH44</th>\n",
       "      <th>AB1</th>\n",
       "      <th>AB17</th>\n",
       "      <th>AB40</th>\n",
       "      <th>AB41</th>\n",
       "      <th>AB18</th>\n",
       "      <th>AB43</th>\n",
       "      <th>...</th>\n",
       "      <th>RAKEDW71</th>\n",
       "      <th>RAKEDW72</th>\n",
       "      <th>RAKEDW73</th>\n",
       "      <th>RAKEDW74</th>\n",
       "      <th>RAKEDW75</th>\n",
       "      <th>RAKEDW76</th>\n",
       "      <th>RAKEDW77</th>\n",
       "      <th>RAKEDW78</th>\n",
       "      <th>RAKEDW79</th>\n",
       "      <th>RAKEDW80</th>\n",
       "    </tr>\n",
       "  </thead>\n",
       "  <tbody>\n",
       "    <tr>\n",
       "      <th>count</th>\n",
       "      <td>21949.000000</td>\n",
       "      <td>21949.000000</td>\n",
       "      <td>21949.000000</td>\n",
       "      <td>21949.000000</td>\n",
       "      <td>21949.000000</td>\n",
       "      <td>21949.000000</td>\n",
       "      <td>21949.000000</td>\n",
       "      <td>21949.000000</td>\n",
       "      <td>21949.000000</td>\n",
       "      <td>21949.000000</td>\n",
       "      <td>...</td>\n",
       "      <td>2.194900e+04</td>\n",
       "      <td>2.194900e+04</td>\n",
       "      <td>2.194900e+04</td>\n",
       "      <td>2.194900e+04</td>\n",
       "      <td>2.194900e+04</td>\n",
       "      <td>2.194900e+04</td>\n",
       "      <td>2.194900e+04</td>\n",
       "      <td>2.194900e+04</td>\n",
       "      <td>2.194900e+04</td>\n",
       "      <td>2.194900e+04</td>\n",
       "    </tr>\n",
       "    <tr>\n",
       "      <th>mean</th>\n",
       "      <td>-0.960636</td>\n",
       "      <td>-0.552098</td>\n",
       "      <td>-0.326302</td>\n",
       "      <td>0.222379</td>\n",
       "      <td>2.341291</td>\n",
       "      <td>1.833888</td>\n",
       "      <td>-0.599526</td>\n",
       "      <td>-0.554832</td>\n",
       "      <td>-0.550913</td>\n",
       "      <td>-0.591325</td>\n",
       "      <td>...</td>\n",
       "      <td>1.352448e+03</td>\n",
       "      <td>1.352448e+03</td>\n",
       "      <td>1.352448e+03</td>\n",
       "      <td>1.352448e+03</td>\n",
       "      <td>1.352448e+03</td>\n",
       "      <td>1.352448e+03</td>\n",
       "      <td>1.352448e+03</td>\n",
       "      <td>1.352448e+03</td>\n",
       "      <td>1.352448e+03</td>\n",
       "      <td>1.352448e+03</td>\n",
       "    </tr>\n",
       "    <tr>\n",
       "      <th>std</th>\n",
       "      <td>0.659912</td>\n",
       "      <td>1.168150</td>\n",
       "      <td>1.184560</td>\n",
       "      <td>0.991387</td>\n",
       "      <td>0.981429</td>\n",
       "      <td>0.372190</td>\n",
       "      <td>0.919431</td>\n",
       "      <td>1.015401</td>\n",
       "      <td>1.023292</td>\n",
       "      <td>0.937936</td>\n",
       "      <td>...</td>\n",
       "      <td>2.091436e+03</td>\n",
       "      <td>2.092901e+03</td>\n",
       "      <td>2.104900e+03</td>\n",
       "      <td>2.096036e+03</td>\n",
       "      <td>2.088730e+03</td>\n",
       "      <td>2.095567e+03</td>\n",
       "      <td>2.092336e+03</td>\n",
       "      <td>2.092695e+03</td>\n",
       "      <td>2.090307e+03</td>\n",
       "      <td>2.095867e+03</td>\n",
       "    </tr>\n",
       "    <tr>\n",
       "      <th>min</th>\n",
       "      <td>-9.000000</td>\n",
       "      <td>-9.000000</td>\n",
       "      <td>-1.000000</td>\n",
       "      <td>-1.000000</td>\n",
       "      <td>1.000000</td>\n",
       "      <td>1.000000</td>\n",
       "      <td>-1.000000</td>\n",
       "      <td>-1.000000</td>\n",
       "      <td>-1.000000</td>\n",
       "      <td>-1.000000</td>\n",
       "      <td>...</td>\n",
       "      <td>5.397605e-79</td>\n",
       "      <td>5.397605e-79</td>\n",
       "      <td>5.397605e-79</td>\n",
       "      <td>5.397605e-79</td>\n",
       "      <td>5.397605e-79</td>\n",
       "      <td>5.397605e-79</td>\n",
       "      <td>5.397605e-79</td>\n",
       "      <td>5.397605e-79</td>\n",
       "      <td>5.397605e-79</td>\n",
       "      <td>5.397605e-79</td>\n",
       "    </tr>\n",
       "    <tr>\n",
       "      <th>25%</th>\n",
       "      <td>-1.000000</td>\n",
       "      <td>-1.000000</td>\n",
       "      <td>-1.000000</td>\n",
       "      <td>-1.000000</td>\n",
       "      <td>2.000000</td>\n",
       "      <td>2.000000</td>\n",
       "      <td>-1.000000</td>\n",
       "      <td>-1.000000</td>\n",
       "      <td>-1.000000</td>\n",
       "      <td>-1.000000</td>\n",
       "      <td>...</td>\n",
       "      <td>3.248181e+02</td>\n",
       "      <td>3.240392e+02</td>\n",
       "      <td>3.217399e+02</td>\n",
       "      <td>3.236587e+02</td>\n",
       "      <td>3.240317e+02</td>\n",
       "      <td>3.257388e+02</td>\n",
       "      <td>3.254211e+02</td>\n",
       "      <td>3.255549e+02</td>\n",
       "      <td>3.251767e+02</td>\n",
       "      <td>3.245607e+02</td>\n",
       "    </tr>\n",
       "    <tr>\n",
       "      <th>50%</th>\n",
       "      <td>-1.000000</td>\n",
       "      <td>-1.000000</td>\n",
       "      <td>-1.000000</td>\n",
       "      <td>1.000000</td>\n",
       "      <td>2.000000</td>\n",
       "      <td>2.000000</td>\n",
       "      <td>-1.000000</td>\n",
       "      <td>-1.000000</td>\n",
       "      <td>-1.000000</td>\n",
       "      <td>-1.000000</td>\n",
       "      <td>...</td>\n",
       "      <td>6.626399e+02</td>\n",
       "      <td>6.606270e+02</td>\n",
       "      <td>6.576657e+02</td>\n",
       "      <td>6.598431e+02</td>\n",
       "      <td>6.602419e+02</td>\n",
       "      <td>6.612859e+02</td>\n",
       "      <td>6.610432e+02</td>\n",
       "      <td>6.624901e+02</td>\n",
       "      <td>6.631350e+02</td>\n",
       "      <td>6.610933e+02</td>\n",
       "    </tr>\n",
       "    <tr>\n",
       "      <th>75%</th>\n",
       "      <td>-1.000000</td>\n",
       "      <td>-1.000000</td>\n",
       "      <td>1.000000</td>\n",
       "      <td>1.000000</td>\n",
       "      <td>3.000000</td>\n",
       "      <td>2.000000</td>\n",
       "      <td>-1.000000</td>\n",
       "      <td>-1.000000</td>\n",
       "      <td>-1.000000</td>\n",
       "      <td>-1.000000</td>\n",
       "      <td>...</td>\n",
       "      <td>1.418224e+03</td>\n",
       "      <td>1.419557e+03</td>\n",
       "      <td>1.417607e+03</td>\n",
       "      <td>1.419032e+03</td>\n",
       "      <td>1.420503e+03</td>\n",
       "      <td>1.417095e+03</td>\n",
       "      <td>1.420962e+03</td>\n",
       "      <td>1.420261e+03</td>\n",
       "      <td>1.424069e+03</td>\n",
       "      <td>1.424040e+03</td>\n",
       "    </tr>\n",
       "    <tr>\n",
       "      <th>max</th>\n",
       "      <td>2.000000</td>\n",
       "      <td>2.000000</td>\n",
       "      <td>4.000000</td>\n",
       "      <td>2.000000</td>\n",
       "      <td>5.000000</td>\n",
       "      <td>2.000000</td>\n",
       "      <td>2.000000</td>\n",
       "      <td>2.000000</td>\n",
       "      <td>2.000000</td>\n",
       "      <td>2.000000</td>\n",
       "      <td>...</td>\n",
       "      <td>1.817416e+04</td>\n",
       "      <td>1.813415e+04</td>\n",
       "      <td>1.825511e+04</td>\n",
       "      <td>1.832452e+04</td>\n",
       "      <td>1.809271e+04</td>\n",
       "      <td>1.831989e+04</td>\n",
       "      <td>1.808554e+04</td>\n",
       "      <td>1.833622e+04</td>\n",
       "      <td>1.814671e+04</td>\n",
       "      <td>1.827509e+04</td>\n",
       "    </tr>\n",
       "  </tbody>\n",
       "</table>\n",
       "<p>8 rows × 603 columns</p>\n",
       "</div>"
      ],
      "text/plain": [
       "               AA5C          AA5G          AH37          AH44           AB1  \\\n",
       "count  21949.000000  21949.000000  21949.000000  21949.000000  21949.000000   \n",
       "mean      -0.960636     -0.552098     -0.326302      0.222379      2.341291   \n",
       "std        0.659912      1.168150      1.184560      0.991387      0.981429   \n",
       "min       -9.000000     -9.000000     -1.000000     -1.000000      1.000000   \n",
       "25%       -1.000000     -1.000000     -1.000000     -1.000000      2.000000   \n",
       "50%       -1.000000     -1.000000     -1.000000      1.000000      2.000000   \n",
       "75%       -1.000000     -1.000000      1.000000      1.000000      3.000000   \n",
       "max        2.000000      2.000000      4.000000      2.000000      5.000000   \n",
       "\n",
       "               AB17          AB40          AB41          AB18          AB43  \\\n",
       "count  21949.000000  21949.000000  21949.000000  21949.000000  21949.000000   \n",
       "mean       1.833888     -0.599526     -0.554832     -0.550913     -0.591325   \n",
       "std        0.372190      0.919431      1.015401      1.023292      0.937936   \n",
       "min        1.000000     -1.000000     -1.000000     -1.000000     -1.000000   \n",
       "25%        2.000000     -1.000000     -1.000000     -1.000000     -1.000000   \n",
       "50%        2.000000     -1.000000     -1.000000     -1.000000     -1.000000   \n",
       "75%        2.000000     -1.000000     -1.000000     -1.000000     -1.000000   \n",
       "max        2.000000      2.000000      2.000000      2.000000      2.000000   \n",
       "\n",
       "       ...      RAKEDW71      RAKEDW72      RAKEDW73      RAKEDW74  \\\n",
       "count  ...  2.194900e+04  2.194900e+04  2.194900e+04  2.194900e+04   \n",
       "mean   ...  1.352448e+03  1.352448e+03  1.352448e+03  1.352448e+03   \n",
       "std    ...  2.091436e+03  2.092901e+03  2.104900e+03  2.096036e+03   \n",
       "min    ...  5.397605e-79  5.397605e-79  5.397605e-79  5.397605e-79   \n",
       "25%    ...  3.248181e+02  3.240392e+02  3.217399e+02  3.236587e+02   \n",
       "50%    ...  6.626399e+02  6.606270e+02  6.576657e+02  6.598431e+02   \n",
       "75%    ...  1.418224e+03  1.419557e+03  1.417607e+03  1.419032e+03   \n",
       "max    ...  1.817416e+04  1.813415e+04  1.825511e+04  1.832452e+04   \n",
       "\n",
       "           RAKEDW75      RAKEDW76      RAKEDW77      RAKEDW78      RAKEDW79  \\\n",
       "count  2.194900e+04  2.194900e+04  2.194900e+04  2.194900e+04  2.194900e+04   \n",
       "mean   1.352448e+03  1.352448e+03  1.352448e+03  1.352448e+03  1.352448e+03   \n",
       "std    2.088730e+03  2.095567e+03  2.092336e+03  2.092695e+03  2.090307e+03   \n",
       "min    5.397605e-79  5.397605e-79  5.397605e-79  5.397605e-79  5.397605e-79   \n",
       "25%    3.240317e+02  3.257388e+02  3.254211e+02  3.255549e+02  3.251767e+02   \n",
       "50%    6.602419e+02  6.612859e+02  6.610432e+02  6.624901e+02  6.631350e+02   \n",
       "75%    1.420503e+03  1.417095e+03  1.420962e+03  1.420261e+03  1.424069e+03   \n",
       "max    1.809271e+04  1.831989e+04  1.808554e+04  1.833622e+04  1.814671e+04   \n",
       "\n",
       "           RAKEDW80  \n",
       "count  2.194900e+04  \n",
       "mean   1.352448e+03  \n",
       "std    2.095867e+03  \n",
       "min    5.397605e-79  \n",
       "25%    3.245607e+02  \n",
       "50%    6.610933e+02  \n",
       "75%    1.424040e+03  \n",
       "max    1.827509e+04  \n",
       "\n",
       "[8 rows x 603 columns]"
      ]
     },
     "execution_count": 32,
     "metadata": {},
     "output_type": "execute_result"
    }
   ],
   "source": [
    "df.describe()"
   ]
  },
  {
   "cell_type": "markdown",
   "id": "97273dda",
   "metadata": {},
   "source": [
    "## VAR DEPRESSION"
   ]
  },
  {
   "cell_type": "code",
   "execution_count": 33,
   "id": "9d2ef80f",
   "metadata": {
    "scrolled": false
   },
   "outputs": [
    {
     "data": {
      "text/plain": [
       "count    21949.000000\n",
       "mean         4.631783\n",
       "std          0.734293\n",
       "min         -2.000000\n",
       "25%          5.000000\n",
       "50%          5.000000\n",
       "75%          5.000000\n",
       "max          5.000000\n",
       "Name: AJ32, dtype: float64"
      ]
     },
     "execution_count": 33,
     "metadata": {},
     "output_type": "execute_result"
    }
   ],
   "source": [
    "df.AJ32.describe() "
   ]
  },
  {
   "cell_type": "markdown",
   "id": "65d517e9",
   "metadata": {},
   "source": [
    "## VAR SMOKING HABITS"
   ]
  },
  {
   "cell_type": "code",
   "execution_count": 34,
   "id": "3954e672",
   "metadata": {
    "scrolled": true
   },
   "outputs": [
    {
     "data": {
      "text/plain": [
       "count    21949.000000\n",
       "mean         2.638343\n",
       "std          0.582503\n",
       "min          1.000000\n",
       "25%          2.000000\n",
       "50%          3.000000\n",
       "75%          3.000000\n",
       "max          3.000000\n",
       "Name: SMOKING, dtype: float64"
      ]
     },
     "execution_count": 34,
     "metadata": {},
     "output_type": "execute_result"
    }
   ],
   "source": [
    "df.SMOKING.describe() "
   ]
  },
  {
   "cell_type": "markdown",
   "id": "7d5f1b46",
   "metadata": {},
   "source": [
    "## VAR GENERAL HEALTH"
   ]
  },
  {
   "cell_type": "code",
   "execution_count": 12,
   "id": "99fff893",
   "metadata": {
    "scrolled": true
   },
   "outputs": [
    {
     "data": {
      "text/plain": [
       "count    21949.000000\n",
       "mean         2.341291\n",
       "std          0.981429\n",
       "min          1.000000\n",
       "25%          2.000000\n",
       "50%          2.000000\n",
       "75%          3.000000\n",
       "max          5.000000\n",
       "Name: AB1, dtype: float64"
      ]
     },
     "execution_count": 12,
     "metadata": {},
     "output_type": "execute_result"
    }
   ],
   "source": [
    "df.AB1.describe()"
   ]
  },
  {
   "cell_type": "markdown",
   "id": "deaac126",
   "metadata": {},
   "source": [
    "## VAR POVERTY LEVELS, AS LEVELS OF FEDERAL POVERTY LEVELS "
   ]
  },
  {
   "cell_type": "code",
   "execution_count": 35,
   "id": "e628be2e",
   "metadata": {},
   "outputs": [
    {
     "data": {
      "text/plain": [
       "count    21949.000000\n",
       "mean         3.423983\n",
       "std          0.973787\n",
       "min          1.000000\n",
       "25%          3.000000\n",
       "50%          4.000000\n",
       "75%          4.000000\n",
       "max          4.000000\n",
       "Name: POVLL, dtype: float64"
      ]
     },
     "execution_count": 35,
     "metadata": {},
     "output_type": "execute_result"
    }
   ],
   "source": [
    "df.POVLL.describe() "
   ]
  },
  {
   "cell_type": "code",
   "execution_count": 36,
   "id": "bcea7429",
   "metadata": {},
   "outputs": [
    {
     "name": "stdout",
     "output_type": "stream",
     "text": [
      "<class 'pandas.core.frame.DataFrame'>\n",
      "RangeIndex: 21949 entries, 0 to 21948\n",
      "Columns: 604 entries, AA5C to RAKEDW80\n",
      "dtypes: float64(603), object(1)\n",
      "memory usage: 101.1+ MB\n"
     ]
    }
   ],
   "source": [
    "df.info()"
   ]
  },
  {
   "cell_type": "markdown",
   "id": "3f8bed02",
   "metadata": {},
   "source": [
    "## Filter data:  Get rid of values of -1"
   ]
  },
  {
   "cell_type": "code",
   "execution_count": 37,
   "id": "8b14de5e",
   "metadata": {},
   "outputs": [],
   "source": [
    "df = df.loc[:, ['SMOKING', 'AB1', 'POVLL', 'AJ32']]\n",
    "df = df[(df['AJ32'] > -1)]\n",
    "\n",
    "smokingCurrent = df.SMOKING # CURRENT SMOKING HABITS - CAT\n",
    "generalHealth = df.AB1 # GENERAL HEALTH CONDITION - CAT\n",
    "povertyFPL = df.POVLL # FPL - CAT\n",
    "depression = df.AJ32 # feeling depressed in last 30 days - CAT - DEP VAR"
   ]
  },
  {
   "cell_type": "code",
   "execution_count": 38,
   "id": "02be5d2d",
   "metadata": {},
   "outputs": [
    {
     "data": {
      "text/html": [
       "<div>\n",
       "<style scoped>\n",
       "    .dataframe tbody tr th:only-of-type {\n",
       "        vertical-align: middle;\n",
       "    }\n",
       "\n",
       "    .dataframe tbody tr th {\n",
       "        vertical-align: top;\n",
       "    }\n",
       "\n",
       "    .dataframe thead th {\n",
       "        text-align: right;\n",
       "    }\n",
       "</style>\n",
       "<table border=\"1\" class=\"dataframe\">\n",
       "  <thead>\n",
       "    <tr style=\"text-align: right;\">\n",
       "      <th></th>\n",
       "      <th>SMOKING</th>\n",
       "      <th>AB1</th>\n",
       "      <th>POVLL</th>\n",
       "      <th>AJ32</th>\n",
       "    </tr>\n",
       "  </thead>\n",
       "  <tbody>\n",
       "    <tr>\n",
       "      <th>0</th>\n",
       "      <td>3.0</td>\n",
       "      <td>3.0</td>\n",
       "      <td>3.0</td>\n",
       "      <td>3.0</td>\n",
       "    </tr>\n",
       "    <tr>\n",
       "      <th>1</th>\n",
       "      <td>2.0</td>\n",
       "      <td>2.0</td>\n",
       "      <td>3.0</td>\n",
       "      <td>5.0</td>\n",
       "    </tr>\n",
       "    <tr>\n",
       "      <th>2</th>\n",
       "      <td>3.0</td>\n",
       "      <td>2.0</td>\n",
       "      <td>4.0</td>\n",
       "      <td>5.0</td>\n",
       "    </tr>\n",
       "    <tr>\n",
       "      <th>3</th>\n",
       "      <td>2.0</td>\n",
       "      <td>3.0</td>\n",
       "      <td>3.0</td>\n",
       "      <td>5.0</td>\n",
       "    </tr>\n",
       "    <tr>\n",
       "      <th>4</th>\n",
       "      <td>2.0</td>\n",
       "      <td>4.0</td>\n",
       "      <td>2.0</td>\n",
       "      <td>5.0</td>\n",
       "    </tr>\n",
       "  </tbody>\n",
       "</table>\n",
       "</div>"
      ],
      "text/plain": [
       "   SMOKING  AB1  POVLL  AJ32\n",
       "0      3.0  3.0    3.0   3.0\n",
       "1      2.0  2.0    3.0   5.0\n",
       "2      3.0  2.0    4.0   5.0\n",
       "3      2.0  3.0    3.0   5.0\n",
       "4      2.0  4.0    2.0   5.0"
      ]
     },
     "execution_count": 38,
     "metadata": {},
     "output_type": "execute_result"
    }
   ],
   "source": [
    "df.head()"
   ]
  },
  {
   "cell_type": "markdown",
   "id": "6fa26fdf",
   "metadata": {},
   "source": [
    "# Frequency Charts"
   ]
  },
  {
   "cell_type": "markdown",
   "id": "82e090a5",
   "metadata": {},
   "source": [
    "## Freq Table:  Smoking"
   ]
  },
  {
   "cell_type": "code",
   "execution_count": 39,
   "id": "1c69fb67",
   "metadata": {},
   "outputs": [
    {
     "data": {
      "text/html": [
       "<div>\n",
       "<style scoped>\n",
       "    .dataframe tbody tr th:only-of-type {\n",
       "        vertical-align: middle;\n",
       "    }\n",
       "\n",
       "    .dataframe tbody tr th {\n",
       "        vertical-align: top;\n",
       "    }\n",
       "\n",
       "    .dataframe thead th {\n",
       "        text-align: right;\n",
       "    }\n",
       "</style>\n",
       "<table border=\"1\" class=\"dataframe\">\n",
       "  <thead>\n",
       "    <tr style=\"text-align: right;\">\n",
       "      <th>col_0</th>\n",
       "      <th>count</th>\n",
       "    </tr>\n",
       "    <tr>\n",
       "      <th>SMOKING</th>\n",
       "      <th></th>\n",
       "    </tr>\n",
       "  </thead>\n",
       "  <tbody>\n",
       "    <tr>\n",
       "      <th>1.0</th>\n",
       "      <td>1190</td>\n",
       "    </tr>\n",
       "    <tr>\n",
       "      <th>2.0</th>\n",
       "      <td>5557</td>\n",
       "    </tr>\n",
       "    <tr>\n",
       "      <th>3.0</th>\n",
       "      <td>15197</td>\n",
       "    </tr>\n",
       "  </tbody>\n",
       "</table>\n",
       "</div>"
      ],
      "text/plain": [
       "col_0    count\n",
       "SMOKING       \n",
       "1.0       1190\n",
       "2.0       5557\n",
       "3.0      15197"
      ]
     },
     "execution_count": 39,
     "metadata": {},
     "output_type": "execute_result"
    }
   ],
   "source": [
    "smoking_freq = pd.crosstab(index = df['SMOKING'], columns='count')\n",
    "smoking_freq"
   ]
  },
  {
   "cell_type": "markdown",
   "id": "cf599cff",
   "metadata": {},
   "source": [
    "## Freq Table:  General Health"
   ]
  },
  {
   "cell_type": "code",
   "execution_count": 40,
   "id": "84c9e9c9",
   "metadata": {
    "scrolled": false
   },
   "outputs": [
    {
     "data": {
      "text/html": [
       "<div>\n",
       "<style scoped>\n",
       "    .dataframe tbody tr th:only-of-type {\n",
       "        vertical-align: middle;\n",
       "    }\n",
       "\n",
       "    .dataframe tbody tr th {\n",
       "        vertical-align: top;\n",
       "    }\n",
       "\n",
       "    .dataframe thead th {\n",
       "        text-align: right;\n",
       "    }\n",
       "</style>\n",
       "<table border=\"1\" class=\"dataframe\">\n",
       "  <thead>\n",
       "    <tr style=\"text-align: right;\">\n",
       "      <th>col_0</th>\n",
       "      <th>count</th>\n",
       "    </tr>\n",
       "    <tr>\n",
       "      <th>AB1</th>\n",
       "      <th></th>\n",
       "    </tr>\n",
       "  </thead>\n",
       "  <tbody>\n",
       "    <tr>\n",
       "      <th>1.0</th>\n",
       "      <td>4544</td>\n",
       "    </tr>\n",
       "    <tr>\n",
       "      <th>2.0</th>\n",
       "      <td>8469</td>\n",
       "    </tr>\n",
       "    <tr>\n",
       "      <th>3.0</th>\n",
       "      <td>6286</td>\n",
       "    </tr>\n",
       "    <tr>\n",
       "      <th>4.0</th>\n",
       "      <td>2189</td>\n",
       "    </tr>\n",
       "    <tr>\n",
       "      <th>5.0</th>\n",
       "      <td>456</td>\n",
       "    </tr>\n",
       "  </tbody>\n",
       "</table>\n",
       "</div>"
      ],
      "text/plain": [
       "col_0  count\n",
       "AB1         \n",
       "1.0     4544\n",
       "2.0     8469\n",
       "3.0     6286\n",
       "4.0     2189\n",
       "5.0      456"
      ]
     },
     "execution_count": 40,
     "metadata": {},
     "output_type": "execute_result"
    }
   ],
   "source": [
    "gen_health_freq = pd.crosstab(index = df['AB1'], columns='count')\n",
    "gen_health_freq"
   ]
  },
  {
   "cell_type": "markdown",
   "id": "4ef055dd",
   "metadata": {},
   "source": [
    "## Freq Table:  Poverty"
   ]
  },
  {
   "cell_type": "code",
   "execution_count": 41,
   "id": "8cffb3b6",
   "metadata": {},
   "outputs": [
    {
     "data": {
      "text/html": [
       "<div>\n",
       "<style scoped>\n",
       "    .dataframe tbody tr th:only-of-type {\n",
       "        vertical-align: middle;\n",
       "    }\n",
       "\n",
       "    .dataframe tbody tr th {\n",
       "        vertical-align: top;\n",
       "    }\n",
       "\n",
       "    .dataframe thead th {\n",
       "        text-align: right;\n",
       "    }\n",
       "</style>\n",
       "<table border=\"1\" class=\"dataframe\">\n",
       "  <thead>\n",
       "    <tr style=\"text-align: right;\">\n",
       "      <th>col_0</th>\n",
       "      <th>count</th>\n",
       "    </tr>\n",
       "    <tr>\n",
       "      <th>POVLL</th>\n",
       "      <th></th>\n",
       "    </tr>\n",
       "  </thead>\n",
       "  <tbody>\n",
       "    <tr>\n",
       "      <th>1.0</th>\n",
       "      <td>1769</td>\n",
       "    </tr>\n",
       "    <tr>\n",
       "      <th>2.0</th>\n",
       "      <td>2419</td>\n",
       "    </tr>\n",
       "    <tr>\n",
       "      <th>3.0</th>\n",
       "      <td>2496</td>\n",
       "    </tr>\n",
       "    <tr>\n",
       "      <th>4.0</th>\n",
       "      <td>15260</td>\n",
       "    </tr>\n",
       "  </tbody>\n",
       "</table>\n",
       "</div>"
      ],
      "text/plain": [
       "col_0  count\n",
       "POVLL       \n",
       "1.0     1769\n",
       "2.0     2419\n",
       "3.0     2496\n",
       "4.0    15260"
      ]
     },
     "execution_count": 41,
     "metadata": {},
     "output_type": "execute_result"
    }
   ],
   "source": [
    "poverty_freq = pd.crosstab(index = df['POVLL'], columns='count')\n",
    "poverty_freq"
   ]
  },
  {
   "cell_type": "markdown",
   "id": "86337041",
   "metadata": {},
   "source": [
    "## Freq Table:  Depression"
   ]
  },
  {
   "cell_type": "code",
   "execution_count": 27,
   "id": "aab7c9c3",
   "metadata": {},
   "outputs": [
    {
     "data": {
      "text/html": [
       "<div>\n",
       "<style scoped>\n",
       "    .dataframe tbody tr th:only-of-type {\n",
       "        vertical-align: middle;\n",
       "    }\n",
       "\n",
       "    .dataframe tbody tr th {\n",
       "        vertical-align: top;\n",
       "    }\n",
       "\n",
       "    .dataframe thead th {\n",
       "        text-align: right;\n",
       "    }\n",
       "</style>\n",
       "<table border=\"1\" class=\"dataframe\">\n",
       "  <thead>\n",
       "    <tr style=\"text-align: right;\">\n",
       "      <th>col_0</th>\n",
       "      <th>count</th>\n",
       "    </tr>\n",
       "    <tr>\n",
       "      <th>AJ32</th>\n",
       "      <th></th>\n",
       "    </tr>\n",
       "  </thead>\n",
       "  <tbody>\n",
       "    <tr>\n",
       "      <th>1.0</th>\n",
       "      <td>95</td>\n",
       "    </tr>\n",
       "    <tr>\n",
       "      <th>2.0</th>\n",
       "      <td>372</td>\n",
       "    </tr>\n",
       "    <tr>\n",
       "      <th>3.0</th>\n",
       "      <td>1573</td>\n",
       "    </tr>\n",
       "    <tr>\n",
       "      <th>4.0</th>\n",
       "      <td>3405</td>\n",
       "    </tr>\n",
       "    <tr>\n",
       "      <th>5.0</th>\n",
       "      <td>16499</td>\n",
       "    </tr>\n",
       "  </tbody>\n",
       "</table>\n",
       "</div>"
      ],
      "text/plain": [
       "col_0  count\n",
       "AJ32        \n",
       "1.0       95\n",
       "2.0      372\n",
       "3.0     1573\n",
       "4.0     3405\n",
       "5.0    16499"
      ]
     },
     "execution_count": 27,
     "metadata": {},
     "output_type": "execute_result"
    }
   ],
   "source": [
    "depression_freq = pd.crosstab(index = df['AJ32'], columns='count')\n",
    "depression_freq"
   ]
  },
  {
   "cell_type": "code",
   "execution_count": 42,
   "id": "a55a4e63",
   "metadata": {},
   "outputs": [
    {
     "data": {
      "text/plain": [
       "5.0    16499\n",
       "4.0     3405\n",
       "3.0     1573\n",
       "2.0      372\n",
       "1.0       95\n",
       "Name: AJ32, dtype: int64"
      ]
     },
     "execution_count": 42,
     "metadata": {},
     "output_type": "execute_result"
    }
   ],
   "source": [
    "df['AJ32'].value_counts()"
   ]
  },
  {
   "cell_type": "code",
   "execution_count": 44,
   "id": "a16a7eb6",
   "metadata": {
    "scrolled": false
   },
   "outputs": [
    {
     "name": "stderr",
     "output_type": "stream",
     "text": [
      "C:\\Users\\Daniel Lagos\\anaconda3\\lib\\site-packages\\seaborn\\_decorators.py:36: FutureWarning: Pass the following variable as a keyword arg: x. From version 0.12, the only valid positional argument will be `data`, and passing other arguments without an explicit keyword will result in an error or misinterpretation.\n",
      "  warnings.warn(\n"
     ]
    },
    {
     "data": {
      "text/plain": [
       "<AxesSubplot:xlabel='AJ32', ylabel='count'>"
      ]
     },
     "execution_count": 44,
     "metadata": {},
     "output_type": "execute_result"
    },
    {
     "data": {
      "image/png": "[encoded data removed]",
      "text/plain": [
       "<Figure size 432x288 with 1 Axes>"
      ]
     },
     "metadata": {
      "needs_background": "light"
     },
     "output_type": "display_data"
    }
   ],
   "source": [
    "sns.countplot(df[\"AJ32\"], order=df[\"AJ32\"].value_counts(ascending=True).index)"
   ]
  },
  {
   "cell_type": "code",
   "execution_count": 48,
   "id": "96306583",
   "metadata": {},
   "outputs": [
    {
     "data": {
      "image/png": "[encoded data removed]",
      "text/plain": [
       "<Figure size 432x288 with 1 Axes>"
      ]
     },
     "metadata": {},
     "output_type": "display_data"
    }
   ],
   "source": [
    "plt.style.use('fivethirtyeight')\n",
    "\n",
    "slices = [60, 40]\n",
    "labels = []\n",
    "\n",
    "plt.pie(slices, labels=labels)\n",
    "\n",
    "plt.title(\"Depression\")\n",
    "plt.tight_layout()"
   ]
  }
 ],
 "metadata": {
  "kernelspec": {
   "display_name": "Python 3 (ipykernel)",
   "language": "python",
   "name": "python3"
  },
  "language_info": {
   "codemirror_mode": {
    "name": "ipython",
    "version": 3
   },
   "file_extension": ".py",
   "mimetype": "text/x-python",
   "name": "python",
   "nbconvert_exporter": "python",
   "pygments_lexer": "ipython3",
   "version": "3.9.7"
  }
 },
 "nbformat": 4,
 "nbformat_minor": 5
}
