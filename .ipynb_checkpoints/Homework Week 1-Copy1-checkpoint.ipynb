{
 "cells": [
  {
   "cell_type": "code",
   "execution_count": 8,
   "id": "140ce6c9",
   "metadata": {},
   "outputs": [],
   "source": [
    "# import libraries\n",
    "import numpy as np\n",
    "import pandas as pd\n",
    "import seaborn as sns\n",
    "import matplotlib.pyplot as plt"
   ]
  },
  {
   "cell_type": "code",
   "execution_count": 16,
   "id": "516cb478",
   "metadata": {},
   "outputs": [],
   "source": [
    "%matplotlib inline"
   ]
  },
  {
   "cell_type": "markdown",
   "id": "e42c34de",
   "metadata": {},
   "source": [
    "## Bring in CHIS 2020 from local hardrive\n",
    "## take zipped file \"adult.zip\" Unzip.  put file path in FILE_LOC"
   ]
  },
  {
   "cell_type": "code",
   "execution_count": 17,
   "id": "f9fb693d",
   "metadata": {},
   "outputs": [
    {
     "name": "stderr",
     "output_type": "stream",
     "text": [
      "C:\\Users\\Daniel Lagos\\anaconda3\\lib\\site-packages\\pandas\\io\\sas\\sas_xport.py:475: PerformanceWarning: DataFrame is highly fragmented.  This is usually the result of calling `frame.insert` many times, which has poor performance.  Consider joining all columns at once using pd.concat(axis=1) instead.  To get a de-fragmented frame, use `newframe = frame.copy()`\n",
      "  df[x] = v\n"
     ]
    }
   ],
   "source": [
    "FILE_LOC = 'C:/Users/Daniel Lagos/OneDrive - Loan Simple/Documents/National University/8 - ANA 500/Week 1/homework/ADULT.xpt'\n",
    "df = pd.read_sas(FILE_LOC)"
   ]
  },
  {
   "cell_type": "code",
   "execution_count": 18,
   "id": "0e037208",
   "metadata": {
    "scrolled": false
   },
   "outputs": [
    {
     "data": {
      "text/html": [
       "<div>\n",
       "<style scoped>\n",
       "    .dataframe tbody tr th:only-of-type {\n",
       "        vertical-align: middle;\n",
       "    }\n",
       "\n",
       "    .dataframe tbody tr th {\n",
       "        vertical-align: top;\n",
       "    }\n",
       "\n",
       "    .dataframe thead th {\n",
       "        text-align: right;\n",
       "    }\n",
       "</style>\n",
       "<table border=\"1\" class=\"dataframe\">\n",
       "  <thead>\n",
       "    <tr style=\"text-align: right;\">\n",
       "      <th></th>\n",
       "      <th>AA5C</th>\n",
       "      <th>AA5G</th>\n",
       "      <th>AH37</th>\n",
       "      <th>AH44</th>\n",
       "      <th>AB1</th>\n",
       "      <th>AB17</th>\n",
       "      <th>AB40</th>\n",
       "      <th>AB41</th>\n",
       "      <th>AB18</th>\n",
       "      <th>AB43</th>\n",
       "      <th>...</th>\n",
       "      <th>RAKEDW71</th>\n",
       "      <th>RAKEDW72</th>\n",
       "      <th>RAKEDW73</th>\n",
       "      <th>RAKEDW74</th>\n",
       "      <th>RAKEDW75</th>\n",
       "      <th>RAKEDW76</th>\n",
       "      <th>RAKEDW77</th>\n",
       "      <th>RAKEDW78</th>\n",
       "      <th>RAKEDW79</th>\n",
       "      <th>RAKEDW80</th>\n",
       "    </tr>\n",
       "  </thead>\n",
       "  <tbody>\n",
       "    <tr>\n",
       "      <th>0</th>\n",
       "      <td>-1.0</td>\n",
       "      <td>-1.0</td>\n",
       "      <td>-1.0</td>\n",
       "      <td>-1.0</td>\n",
       "      <td>3.0</td>\n",
       "      <td>2.0</td>\n",
       "      <td>-1.0</td>\n",
       "      <td>-1.0</td>\n",
       "      <td>-1.0</td>\n",
       "      <td>-1.0</td>\n",
       "      <td>...</td>\n",
       "      <td>1605.912814</td>\n",
       "      <td>1577.479222</td>\n",
       "      <td>1578.109407</td>\n",
       "      <td>1566.686492</td>\n",
       "      <td>1657.063161</td>\n",
       "      <td>1598.357033</td>\n",
       "      <td>1610.132833</td>\n",
       "      <td>1577.495627</td>\n",
       "      <td>1607.168800</td>\n",
       "      <td>1602.605396</td>\n",
       "    </tr>\n",
       "    <tr>\n",
       "      <th>1</th>\n",
       "      <td>-1.0</td>\n",
       "      <td>-1.0</td>\n",
       "      <td>-1.0</td>\n",
       "      <td>1.0</td>\n",
       "      <td>2.0</td>\n",
       "      <td>2.0</td>\n",
       "      <td>-1.0</td>\n",
       "      <td>-1.0</td>\n",
       "      <td>-1.0</td>\n",
       "      <td>-1.0</td>\n",
       "      <td>...</td>\n",
       "      <td>1558.197812</td>\n",
       "      <td>1513.430922</td>\n",
       "      <td>1537.924152</td>\n",
       "      <td>1537.402328</td>\n",
       "      <td>1529.306613</td>\n",
       "      <td>1544.735340</td>\n",
       "      <td>1531.233715</td>\n",
       "      <td>1557.723321</td>\n",
       "      <td>1562.932975</td>\n",
       "      <td>1503.820145</td>\n",
       "    </tr>\n",
       "    <tr>\n",
       "      <th>2</th>\n",
       "      <td>-1.0</td>\n",
       "      <td>-1.0</td>\n",
       "      <td>-1.0</td>\n",
       "      <td>-1.0</td>\n",
       "      <td>2.0</td>\n",
       "      <td>2.0</td>\n",
       "      <td>-1.0</td>\n",
       "      <td>-1.0</td>\n",
       "      <td>-1.0</td>\n",
       "      <td>-1.0</td>\n",
       "      <td>...</td>\n",
       "      <td>1211.750536</td>\n",
       "      <td>1212.772970</td>\n",
       "      <td>1202.982303</td>\n",
       "      <td>1225.293304</td>\n",
       "      <td>1248.000638</td>\n",
       "      <td>1216.821869</td>\n",
       "      <td>1233.241885</td>\n",
       "      <td>1201.254104</td>\n",
       "      <td>1201.887010</td>\n",
       "      <td>1218.093974</td>\n",
       "    </tr>\n",
       "    <tr>\n",
       "      <th>3</th>\n",
       "      <td>-1.0</td>\n",
       "      <td>-1.0</td>\n",
       "      <td>-1.0</td>\n",
       "      <td>-1.0</td>\n",
       "      <td>3.0</td>\n",
       "      <td>1.0</td>\n",
       "      <td>1.0</td>\n",
       "      <td>2.0</td>\n",
       "      <td>2.0</td>\n",
       "      <td>2.0</td>\n",
       "      <td>...</td>\n",
       "      <td>590.153646</td>\n",
       "      <td>604.817107</td>\n",
       "      <td>596.879484</td>\n",
       "      <td>594.582363</td>\n",
       "      <td>587.412696</td>\n",
       "      <td>590.762356</td>\n",
       "      <td>589.418840</td>\n",
       "      <td>598.307511</td>\n",
       "      <td>1195.997735</td>\n",
       "      <td>581.912369</td>\n",
       "    </tr>\n",
       "    <tr>\n",
       "      <th>4</th>\n",
       "      <td>-1.0</td>\n",
       "      <td>1.0</td>\n",
       "      <td>-1.0</td>\n",
       "      <td>1.0</td>\n",
       "      <td>4.0</td>\n",
       "      <td>2.0</td>\n",
       "      <td>-1.0</td>\n",
       "      <td>-1.0</td>\n",
       "      <td>-1.0</td>\n",
       "      <td>-1.0</td>\n",
       "      <td>...</td>\n",
       "      <td>194.059102</td>\n",
       "      <td>188.468808</td>\n",
       "      <td>201.853958</td>\n",
       "      <td>195.711101</td>\n",
       "      <td>200.749310</td>\n",
       "      <td>191.936914</td>\n",
       "      <td>206.431383</td>\n",
       "      <td>205.310211</td>\n",
       "      <td>449.979358</td>\n",
       "      <td>197.861495</td>\n",
       "    </tr>\n",
       "  </tbody>\n",
       "</table>\n",
       "<p>5 rows × 604 columns</p>\n",
       "</div>"
      ],
      "text/plain": [
       "   AA5C  AA5G  AH37  AH44  AB1  AB17  AB40  AB41  AB18  AB43  ...  \\\n",
       "0  -1.0  -1.0  -1.0  -1.0  3.0   2.0  -1.0  -1.0  -1.0  -1.0  ...   \n",
       "1  -1.0  -1.0  -1.0   1.0  2.0   2.0  -1.0  -1.0  -1.0  -1.0  ...   \n",
       "2  -1.0  -1.0  -1.0  -1.0  2.0   2.0  -1.0  -1.0  -1.0  -1.0  ...   \n",
       "3  -1.0  -1.0  -1.0  -1.0  3.0   1.0   1.0   2.0   2.0   2.0  ...   \n",
       "4  -1.0   1.0  -1.0   1.0  4.0   2.0  -1.0  -1.0  -1.0  -1.0  ...   \n",
       "\n",
       "      RAKEDW71     RAKEDW72     RAKEDW73     RAKEDW74     RAKEDW75  \\\n",
       "0  1605.912814  1577.479222  1578.109407  1566.686492  1657.063161   \n",
       "1  1558.197812  1513.430922  1537.924152  1537.402328  1529.306613   \n",
       "2  1211.750536  1212.772970  1202.982303  1225.293304  1248.000638   \n",
       "3   590.153646   604.817107   596.879484   594.582363   587.412696   \n",
       "4   194.059102   188.468808   201.853958   195.711101   200.749310   \n",
       "\n",
       "      RAKEDW76     RAKEDW77     RAKEDW78     RAKEDW79     RAKEDW80  \n",
       "0  1598.357033  1610.132833  1577.495627  1607.168800  1602.605396  \n",
       "1  1544.735340  1531.233715  1557.723321  1562.932975  1503.820145  \n",
       "2  1216.821869  1233.241885  1201.254104  1201.887010  1218.093974  \n",
       "3   590.762356   589.418840   598.307511  1195.997735   581.912369  \n",
       "4   191.936914   206.431383   205.310211   449.979358   197.861495  \n",
       "\n",
       "[5 rows x 604 columns]"
      ]
     },
     "execution_count": 18,
     "metadata": {},
     "output_type": "execute_result"
    }
   ],
   "source": [
    "df.head()"
   ]
  },
  {
   "cell_type": "code",
   "execution_count": 19,
   "id": "a62c86c0",
   "metadata": {},
   "outputs": [
    {
     "data": {
      "text/plain": [
       "(21949, 604)"
      ]
     },
     "execution_count": 19,
     "metadata": {},
     "output_type": "execute_result"
    }
   ],
   "source": [
    "df.shape"
   ]
  },
  {
   "cell_type": "code",
   "execution_count": 20,
   "id": "33b3bf21",
   "metadata": {},
   "outputs": [
    {
     "data": {
      "text/html": [
       "<div>\n",
       "<style scoped>\n",
       "    .dataframe tbody tr th:only-of-type {\n",
       "        vertical-align: middle;\n",
       "    }\n",
       "\n",
       "    .dataframe tbody tr th {\n",
       "        vertical-align: top;\n",
       "    }\n",
       "\n",
       "    .dataframe thead th {\n",
       "        text-align: right;\n",
       "    }\n",
       "</style>\n",
       "<table border=\"1\" class=\"dataframe\">\n",
       "  <thead>\n",
       "    <tr style=\"text-align: right;\">\n",
       "      <th></th>\n",
       "      <th>AA5C</th>\n",
       "      <th>AA5G</th>\n",
       "      <th>AH37</th>\n",
       "      <th>AH44</th>\n",
       "      <th>AB1</th>\n",
       "      <th>AB17</th>\n",
       "      <th>AB40</th>\n",
       "      <th>AB41</th>\n",
       "      <th>AB18</th>\n",
       "      <th>AB43</th>\n",
       "      <th>...</th>\n",
       "      <th>RAKEDW71</th>\n",
       "      <th>RAKEDW72</th>\n",
       "      <th>RAKEDW73</th>\n",
       "      <th>RAKEDW74</th>\n",
       "      <th>RAKEDW75</th>\n",
       "      <th>RAKEDW76</th>\n",
       "      <th>RAKEDW77</th>\n",
       "      <th>RAKEDW78</th>\n",
       "      <th>RAKEDW79</th>\n",
       "      <th>RAKEDW80</th>\n",
       "    </tr>\n",
       "  </thead>\n",
       "  <tbody>\n",
       "    <tr>\n",
       "      <th>count</th>\n",
       "      <td>21949.000000</td>\n",
       "      <td>21949.000000</td>\n",
       "      <td>21949.000000</td>\n",
       "      <td>21949.000000</td>\n",
       "      <td>21949.000000</td>\n",
       "      <td>21949.000000</td>\n",
       "      <td>21949.000000</td>\n",
       "      <td>21949.000000</td>\n",
       "      <td>21949.000000</td>\n",
       "      <td>21949.000000</td>\n",
       "      <td>...</td>\n",
       "      <td>2.194900e+04</td>\n",
       "      <td>2.194900e+04</td>\n",
       "      <td>2.194900e+04</td>\n",
       "      <td>2.194900e+04</td>\n",
       "      <td>2.194900e+04</td>\n",
       "      <td>2.194900e+04</td>\n",
       "      <td>2.194900e+04</td>\n",
       "      <td>2.194900e+04</td>\n",
       "      <td>2.194900e+04</td>\n",
       "      <td>2.194900e+04</td>\n",
       "    </tr>\n",
       "    <tr>\n",
       "      <th>mean</th>\n",
       "      <td>-0.960636</td>\n",
       "      <td>-0.552098</td>\n",
       "      <td>-0.326302</td>\n",
       "      <td>0.222379</td>\n",
       "      <td>2.341291</td>\n",
       "      <td>1.833888</td>\n",
       "      <td>-0.599526</td>\n",
       "      <td>-0.554832</td>\n",
       "      <td>-0.550913</td>\n",
       "      <td>-0.591325</td>\n",
       "      <td>...</td>\n",
       "      <td>1.352448e+03</td>\n",
       "      <td>1.352448e+03</td>\n",
       "      <td>1.352448e+03</td>\n",
       "      <td>1.352448e+03</td>\n",
       "      <td>1.352448e+03</td>\n",
       "      <td>1.352448e+03</td>\n",
       "      <td>1.352448e+03</td>\n",
       "      <td>1.352448e+03</td>\n",
       "      <td>1.352448e+03</td>\n",
       "      <td>1.352448e+03</td>\n",
       "    </tr>\n",
       "    <tr>\n",
       "      <th>std</th>\n",
       "      <td>0.659912</td>\n",
       "      <td>1.168150</td>\n",
       "      <td>1.184560</td>\n",
       "      <td>0.991387</td>\n",
       "      <td>0.981429</td>\n",
       "      <td>0.372190</td>\n",
       "      <td>0.919431</td>\n",
       "      <td>1.015401</td>\n",
       "      <td>1.023292</td>\n",
       "      <td>0.937936</td>\n",
       "      <td>...</td>\n",
       "      <td>2.091436e+03</td>\n",
       "      <td>2.092901e+03</td>\n",
       "      <td>2.104900e+03</td>\n",
       "      <td>2.096036e+03</td>\n",
       "      <td>2.088730e+03</td>\n",
       "      <td>2.095567e+03</td>\n",
       "      <td>2.092336e+03</td>\n",
       "      <td>2.092695e+03</td>\n",
       "      <td>2.090307e+03</td>\n",
       "      <td>2.095867e+03</td>\n",
       "    </tr>\n",
       "    <tr>\n",
       "      <th>min</th>\n",
       "      <td>-9.000000</td>\n",
       "      <td>-9.000000</td>\n",
       "      <td>-1.000000</td>\n",
       "      <td>-1.000000</td>\n",
       "      <td>1.000000</td>\n",
       "      <td>1.000000</td>\n",
       "      <td>-1.000000</td>\n",
       "      <td>-1.000000</td>\n",
       "      <td>-1.000000</td>\n",
       "      <td>-1.000000</td>\n",
       "      <td>...</td>\n",
       "      <td>5.397605e-79</td>\n",
       "      <td>5.397605e-79</td>\n",
       "      <td>5.397605e-79</td>\n",
       "      <td>5.397605e-79</td>\n",
       "      <td>5.397605e-79</td>\n",
       "      <td>5.397605e-79</td>\n",
       "      <td>5.397605e-79</td>\n",
       "      <td>5.397605e-79</td>\n",
       "      <td>5.397605e-79</td>\n",
       "      <td>5.397605e-79</td>\n",
       "    </tr>\n",
       "    <tr>\n",
       "      <th>25%</th>\n",
       "      <td>-1.000000</td>\n",
       "      <td>-1.000000</td>\n",
       "      <td>-1.000000</td>\n",
       "      <td>-1.000000</td>\n",
       "      <td>2.000000</td>\n",
       "      <td>2.000000</td>\n",
       "      <td>-1.000000</td>\n",
       "      <td>-1.000000</td>\n",
       "      <td>-1.000000</td>\n",
       "      <td>-1.000000</td>\n",
       "      <td>...</td>\n",
       "      <td>3.248181e+02</td>\n",
       "      <td>3.240392e+02</td>\n",
       "      <td>3.217399e+02</td>\n",
       "      <td>3.236587e+02</td>\n",
       "      <td>3.240317e+02</td>\n",
       "      <td>3.257388e+02</td>\n",
       "      <td>3.254211e+02</td>\n",
       "      <td>3.255549e+02</td>\n",
       "      <td>3.251767e+02</td>\n",
       "      <td>3.245607e+02</td>\n",
       "    </tr>\n",
       "    <tr>\n",
       "      <th>50%</th>\n",
       "      <td>-1.000000</td>\n",
       "      <td>-1.000000</td>\n",
       "      <td>-1.000000</td>\n",
       "      <td>1.000000</td>\n",
       "      <td>2.000000</td>\n",
       "      <td>2.000000</td>\n",
       "      <td>-1.000000</td>\n",
       "      <td>-1.000000</td>\n",
       "      <td>-1.000000</td>\n",
       "      <td>-1.000000</td>\n",
       "      <td>...</td>\n",
       "      <td>6.626399e+02</td>\n",
       "      <td>6.606270e+02</td>\n",
       "      <td>6.576657e+02</td>\n",
       "      <td>6.598431e+02</td>\n",
       "      <td>6.602419e+02</td>\n",
       "      <td>6.612859e+02</td>\n",
       "      <td>6.610432e+02</td>\n",
       "      <td>6.624901e+02</td>\n",
       "      <td>6.631350e+02</td>\n",
       "      <td>6.610933e+02</td>\n",
       "    </tr>\n",
       "    <tr>\n",
       "      <th>75%</th>\n",
       "      <td>-1.000000</td>\n",
       "      <td>-1.000000</td>\n",
       "      <td>1.000000</td>\n",
       "      <td>1.000000</td>\n",
       "      <td>3.000000</td>\n",
       "      <td>2.000000</td>\n",
       "      <td>-1.000000</td>\n",
       "      <td>-1.000000</td>\n",
       "      <td>-1.000000</td>\n",
       "      <td>-1.000000</td>\n",
       "      <td>...</td>\n",
       "      <td>1.418224e+03</td>\n",
       "      <td>1.419557e+03</td>\n",
       "      <td>1.417607e+03</td>\n",
       "      <td>1.419032e+03</td>\n",
       "      <td>1.420503e+03</td>\n",
       "      <td>1.417095e+03</td>\n",
       "      <td>1.420962e+03</td>\n",
       "      <td>1.420261e+03</td>\n",
       "      <td>1.424069e+03</td>\n",
       "      <td>1.424040e+03</td>\n",
       "    </tr>\n",
       "    <tr>\n",
       "      <th>max</th>\n",
       "      <td>2.000000</td>\n",
       "      <td>2.000000</td>\n",
       "      <td>4.000000</td>\n",
       "      <td>2.000000</td>\n",
       "      <td>5.000000</td>\n",
       "      <td>2.000000</td>\n",
       "      <td>2.000000</td>\n",
       "      <td>2.000000</td>\n",
       "      <td>2.000000</td>\n",
       "      <td>2.000000</td>\n",
       "      <td>...</td>\n",
       "      <td>1.817416e+04</td>\n",
       "      <td>1.813415e+04</td>\n",
       "      <td>1.825511e+04</td>\n",
       "      <td>1.832452e+04</td>\n",
       "      <td>1.809271e+04</td>\n",
       "      <td>1.831989e+04</td>\n",
       "      <td>1.808554e+04</td>\n",
       "      <td>1.833622e+04</td>\n",
       "      <td>1.814671e+04</td>\n",
       "      <td>1.827509e+04</td>\n",
       "    </tr>\n",
       "  </tbody>\n",
       "</table>\n",
       "<p>8 rows × 603 columns</p>\n",
       "</div>"
      ],
      "text/plain": [
       "               AA5C          AA5G          AH37          AH44           AB1  \\\n",
       "count  21949.000000  21949.000000  21949.000000  21949.000000  21949.000000   \n",
       "mean      -0.960636     -0.552098     -0.326302      0.222379      2.341291   \n",
       "std        0.659912      1.168150      1.184560      0.991387      0.981429   \n",
       "min       -9.000000     -9.000000     -1.000000     -1.000000      1.000000   \n",
       "25%       -1.000000     -1.000000     -1.000000     -1.000000      2.000000   \n",
       "50%       -1.000000     -1.000000     -1.000000      1.000000      2.000000   \n",
       "75%       -1.000000     -1.000000      1.000000      1.000000      3.000000   \n",
       "max        2.000000      2.000000      4.000000      2.000000      5.000000   \n",
       "\n",
       "               AB17          AB40          AB41          AB18          AB43  \\\n",
       "count  21949.000000  21949.000000  21949.000000  21949.000000  21949.000000   \n",
       "mean       1.833888     -0.599526     -0.554832     -0.550913     -0.591325   \n",
       "std        0.372190      0.919431      1.015401      1.023292      0.937936   \n",
       "min        1.000000     -1.000000     -1.000000     -1.000000     -1.000000   \n",
       "25%        2.000000     -1.000000     -1.000000     -1.000000     -1.000000   \n",
       "50%        2.000000     -1.000000     -1.000000     -1.000000     -1.000000   \n",
       "75%        2.000000     -1.000000     -1.000000     -1.000000     -1.000000   \n",
       "max        2.000000      2.000000      2.000000      2.000000      2.000000   \n",
       "\n",
       "       ...      RAKEDW71      RAKEDW72      RAKEDW73      RAKEDW74  \\\n",
       "count  ...  2.194900e+04  2.194900e+04  2.194900e+04  2.194900e+04   \n",
       "mean   ...  1.352448e+03  1.352448e+03  1.352448e+03  1.352448e+03   \n",
       "std    ...  2.091436e+03  2.092901e+03  2.104900e+03  2.096036e+03   \n",
       "min    ...  5.397605e-79  5.397605e-79  5.397605e-79  5.397605e-79   \n",
       "25%    ...  3.248181e+02  3.240392e+02  3.217399e+02  3.236587e+02   \n",
       "50%    ...  6.626399e+02  6.606270e+02  6.576657e+02  6.598431e+02   \n",
       "75%    ...  1.418224e+03  1.419557e+03  1.417607e+03  1.419032e+03   \n",
       "max    ...  1.817416e+04  1.813415e+04  1.825511e+04  1.832452e+04   \n",
       "\n",
       "           RAKEDW75      RAKEDW76      RAKEDW77      RAKEDW78      RAKEDW79  \\\n",
       "count  2.194900e+04  2.194900e+04  2.194900e+04  2.194900e+04  2.194900e+04   \n",
       "mean   1.352448e+03  1.352448e+03  1.352448e+03  1.352448e+03  1.352448e+03   \n",
       "std    2.088730e+03  2.095567e+03  2.092336e+03  2.092695e+03  2.090307e+03   \n",
       "min    5.397605e-79  5.397605e-79  5.397605e-79  5.397605e-79  5.397605e-79   \n",
       "25%    3.240317e+02  3.257388e+02  3.254211e+02  3.255549e+02  3.251767e+02   \n",
       "50%    6.602419e+02  6.612859e+02  6.610432e+02  6.624901e+02  6.631350e+02   \n",
       "75%    1.420503e+03  1.417095e+03  1.420962e+03  1.420261e+03  1.424069e+03   \n",
       "max    1.809271e+04  1.831989e+04  1.808554e+04  1.833622e+04  1.814671e+04   \n",
       "\n",
       "           RAKEDW80  \n",
       "count  2.194900e+04  \n",
       "mean   1.352448e+03  \n",
       "std    2.095867e+03  \n",
       "min    5.397605e-79  \n",
       "25%    3.245607e+02  \n",
       "50%    6.610933e+02  \n",
       "75%    1.424040e+03  \n",
       "max    1.827509e+04  \n",
       "\n",
       "[8 rows x 603 columns]"
      ]
     },
     "execution_count": 20,
     "metadata": {},
     "output_type": "execute_result"
    }
   ],
   "source": [
    "df.describe()"
   ]
  },
  {
   "cell_type": "markdown",
   "id": "c45481e1",
   "metadata": {},
   "source": [
    "## VAR DEPRESSION"
   ]
  },
  {
   "cell_type": "code",
   "execution_count": 21,
   "id": "5e88c523",
   "metadata": {
    "scrolled": true
   },
   "outputs": [
    {
     "data": {
      "text/plain": [
       "count    21949.000000\n",
       "mean         4.631783\n",
       "std          0.734293\n",
       "min         -2.000000\n",
       "25%          5.000000\n",
       "50%          5.000000\n",
       "75%          5.000000\n",
       "max          5.000000\n",
       "Name: AJ32, dtype: float64"
      ]
     },
     "execution_count": 21,
     "metadata": {},
     "output_type": "execute_result"
    }
   ],
   "source": [
    "df.AJ32.describe()"
   ]
  },
  {
   "cell_type": "markdown",
   "id": "4dd7b1f5",
   "metadata": {},
   "source": [
    "## VAR SMOKING HABITS"
   ]
  },
  {
   "cell_type": "code",
   "execution_count": 22,
   "id": "66fe9aa6",
   "metadata": {
    "scrolled": true
   },
   "outputs": [
    {
     "data": {
      "text/plain": [
       "count    21949.000000\n",
       "mean         2.638343\n",
       "std          0.582503\n",
       "min          1.000000\n",
       "25%          2.000000\n",
       "50%          3.000000\n",
       "75%          3.000000\n",
       "max          3.000000\n",
       "Name: SMOKING, dtype: float64"
      ]
     },
     "execution_count": 22,
     "metadata": {},
     "output_type": "execute_result"
    }
   ],
   "source": [
    "df.SMOKING.describe()"
   ]
  },
  {
   "cell_type": "markdown",
   "id": "5442895d",
   "metadata": {},
   "source": [
    "## VAR GENERAL HEALTH"
   ]
  },
  {
   "cell_type": "code",
   "execution_count": 23,
   "id": "db2832ca",
   "metadata": {
    "scrolled": true
   },
   "outputs": [
    {
     "data": {
      "text/plain": [
       "count    21949.000000\n",
       "mean         2.341291\n",
       "std          0.981429\n",
       "min          1.000000\n",
       "25%          2.000000\n",
       "50%          2.000000\n",
       "75%          3.000000\n",
       "max          5.000000\n",
       "Name: AB1, dtype: float64"
      ]
     },
     "execution_count": 23,
     "metadata": {},
     "output_type": "execute_result"
    }
   ],
   "source": [
    "df.AB1.describe() "
   ]
  },
  {
   "cell_type": "markdown",
   "id": "ed789e25",
   "metadata": {},
   "source": [
    "## POVERTY LEVELS AS LEVELS OF FEDERAL POVERTY LEVELS "
   ]
  },
  {
   "cell_type": "code",
   "execution_count": 24,
   "id": "669dd95d",
   "metadata": {
    "scrolled": true
   },
   "outputs": [
    {
     "data": {
      "text/plain": [
       "count    21949.000000\n",
       "mean         3.423983\n",
       "std          0.973787\n",
       "min          1.000000\n",
       "25%          3.000000\n",
       "50%          4.000000\n",
       "75%          4.000000\n",
       "max          4.000000\n",
       "Name: POVLL, dtype: float64"
      ]
     },
     "execution_count": 24,
     "metadata": {},
     "output_type": "execute_result"
    }
   ],
   "source": [
    "df.POVLL.describe() "
   ]
  },
  {
   "cell_type": "code",
   "execution_count": 25,
   "id": "863ce7c7",
   "metadata": {},
   "outputs": [
    {
     "name": "stdout",
     "output_type": "stream",
     "text": [
      "<class 'pandas.core.frame.DataFrame'>\n",
      "RangeIndex: 21949 entries, 0 to 21948\n",
      "Columns: 604 entries, AA5C to RAKEDW80\n",
      "dtypes: float64(603), object(1)\n",
      "memory usage: 101.1+ MB\n"
     ]
    }
   ],
   "source": [
    "df.info()"
   ]
  },
  {
   "cell_type": "markdown",
   "id": "533c47ce",
   "metadata": {},
   "source": [
    "## Filter data:  Get rid of values of negative values\n",
    "##  Also remove un-needed variables"
   ]
  },
  {
   "cell_type": "code",
   "execution_count": 26,
   "id": "147532fd",
   "metadata": {
    "scrolled": true
   },
   "outputs": [],
   "source": [
    "df = df.loc[:, ['SMOKING', 'AB1', 'POVLL', 'AJ32']]\n",
    "df = df[(df['AJ32'] > -1)]\n",
    "\n",
    "smokingCurrent = df.SMOKING # CURRENT SMOKING HABITS - CAT\n",
    "generalHealth = df.AB1 # GENERAL HEALTH CONDITION - CAT\n",
    "povertyFPL = df.POVLL # FPL - CAT\n",
    "depression = df.AJ32 # feeling depressed in last 30 days - CAT - DEP VAR"
   ]
  },
  {
   "cell_type": "code",
   "execution_count": 27,
   "id": "54bd74b7",
   "metadata": {},
   "outputs": [
    {
     "data": {
      "text/html": [
       "<div>\n",
       "<style scoped>\n",
       "    .dataframe tbody tr th:only-of-type {\n",
       "        vertical-align: middle;\n",
       "    }\n",
       "\n",
       "    .dataframe tbody tr th {\n",
       "        vertical-align: top;\n",
       "    }\n",
       "\n",
       "    .dataframe thead th {\n",
       "        text-align: right;\n",
       "    }\n",
       "</style>\n",
       "<table border=\"1\" class=\"dataframe\">\n",
       "  <thead>\n",
       "    <tr style=\"text-align: right;\">\n",
       "      <th></th>\n",
       "      <th>SMOKING</th>\n",
       "      <th>AB1</th>\n",
       "      <th>POVLL</th>\n",
       "      <th>AJ32</th>\n",
       "    </tr>\n",
       "  </thead>\n",
       "  <tbody>\n",
       "    <tr>\n",
       "      <th>0</th>\n",
       "      <td>3.0</td>\n",
       "      <td>3.0</td>\n",
       "      <td>3.0</td>\n",
       "      <td>3.0</td>\n",
       "    </tr>\n",
       "    <tr>\n",
       "      <th>1</th>\n",
       "      <td>2.0</td>\n",
       "      <td>2.0</td>\n",
       "      <td>3.0</td>\n",
       "      <td>5.0</td>\n",
       "    </tr>\n",
       "    <tr>\n",
       "      <th>2</th>\n",
       "      <td>3.0</td>\n",
       "      <td>2.0</td>\n",
       "      <td>4.0</td>\n",
       "      <td>5.0</td>\n",
       "    </tr>\n",
       "    <tr>\n",
       "      <th>3</th>\n",
       "      <td>2.0</td>\n",
       "      <td>3.0</td>\n",
       "      <td>3.0</td>\n",
       "      <td>5.0</td>\n",
       "    </tr>\n",
       "    <tr>\n",
       "      <th>4</th>\n",
       "      <td>2.0</td>\n",
       "      <td>4.0</td>\n",
       "      <td>2.0</td>\n",
       "      <td>5.0</td>\n",
       "    </tr>\n",
       "  </tbody>\n",
       "</table>\n",
       "</div>"
      ],
      "text/plain": [
       "   SMOKING  AB1  POVLL  AJ32\n",
       "0      3.0  3.0    3.0   3.0\n",
       "1      2.0  2.0    3.0   5.0\n",
       "2      3.0  2.0    4.0   5.0\n",
       "3      2.0  3.0    3.0   5.0\n",
       "4      2.0  4.0    2.0   5.0"
      ]
     },
     "execution_count": 27,
     "metadata": {},
     "output_type": "execute_result"
    }
   ],
   "source": [
    "df.head()"
   ]
  },
  {
   "cell_type": "markdown",
   "id": "502b9bda",
   "metadata": {},
   "source": [
    "##  Confirm negative values are gone."
   ]
  },
  {
   "cell_type": "code",
   "execution_count": 28,
   "id": "803023fa",
   "metadata": {},
   "outputs": [
    {
     "data": {
      "text/html": [
       "<div>\n",
       "<style scoped>\n",
       "    .dataframe tbody tr th:only-of-type {\n",
       "        vertical-align: middle;\n",
       "    }\n",
       "\n",
       "    .dataframe tbody tr th {\n",
       "        vertical-align: top;\n",
       "    }\n",
       "\n",
       "    .dataframe thead th {\n",
       "        text-align: right;\n",
       "    }\n",
       "</style>\n",
       "<table border=\"1\" class=\"dataframe\">\n",
       "  <thead>\n",
       "    <tr style=\"text-align: right;\">\n",
       "      <th></th>\n",
       "      <th>SMOKING</th>\n",
       "      <th>AB1</th>\n",
       "      <th>POVLL</th>\n",
       "      <th>AJ32</th>\n",
       "    </tr>\n",
       "  </thead>\n",
       "  <tbody>\n",
       "    <tr>\n",
       "      <th>count</th>\n",
       "      <td>21944.000000</td>\n",
       "      <td>21944.000000</td>\n",
       "      <td>21944.000000</td>\n",
       "      <td>21944.000000</td>\n",
       "    </tr>\n",
       "    <tr>\n",
       "      <th>mean</th>\n",
       "      <td>2.638307</td>\n",
       "      <td>2.341232</td>\n",
       "      <td>3.423943</td>\n",
       "      <td>4.633294</td>\n",
       "    </tr>\n",
       "    <tr>\n",
       "      <th>std</th>\n",
       "      <td>0.582533</td>\n",
       "      <td>0.981413</td>\n",
       "      <td>0.973866</td>\n",
       "      <td>0.727520</td>\n",
       "    </tr>\n",
       "    <tr>\n",
       "      <th>min</th>\n",
       "      <td>1.000000</td>\n",
       "      <td>1.000000</td>\n",
       "      <td>1.000000</td>\n",
       "      <td>1.000000</td>\n",
       "    </tr>\n",
       "    <tr>\n",
       "      <th>25%</th>\n",
       "      <td>2.000000</td>\n",
       "      <td>2.000000</td>\n",
       "      <td>3.000000</td>\n",
       "      <td>5.000000</td>\n",
       "    </tr>\n",
       "    <tr>\n",
       "      <th>50%</th>\n",
       "      <td>3.000000</td>\n",
       "      <td>2.000000</td>\n",
       "      <td>4.000000</td>\n",
       "      <td>5.000000</td>\n",
       "    </tr>\n",
       "    <tr>\n",
       "      <th>75%</th>\n",
       "      <td>3.000000</td>\n",
       "      <td>3.000000</td>\n",
       "      <td>4.000000</td>\n",
       "      <td>5.000000</td>\n",
       "    </tr>\n",
       "    <tr>\n",
       "      <th>max</th>\n",
       "      <td>3.000000</td>\n",
       "      <td>5.000000</td>\n",
       "      <td>4.000000</td>\n",
       "      <td>5.000000</td>\n",
       "    </tr>\n",
       "  </tbody>\n",
       "</table>\n",
       "</div>"
      ],
      "text/plain": [
       "            SMOKING           AB1         POVLL          AJ32\n",
       "count  21944.000000  21944.000000  21944.000000  21944.000000\n",
       "mean       2.638307      2.341232      3.423943      4.633294\n",
       "std        0.582533      0.981413      0.973866      0.727520\n",
       "min        1.000000      1.000000      1.000000      1.000000\n",
       "25%        2.000000      2.000000      3.000000      5.000000\n",
       "50%        3.000000      2.000000      4.000000      5.000000\n",
       "75%        3.000000      3.000000      4.000000      5.000000\n",
       "max        3.000000      5.000000      4.000000      5.000000"
      ]
     },
     "execution_count": 28,
     "metadata": {},
     "output_type": "execute_result"
    }
   ],
   "source": [
    "df.describe()"
   ]
  },
  {
   "cell_type": "markdown",
   "id": "8542f2f7",
   "metadata": {},
   "source": [
    "# Histograms "
   ]
  },
  {
   "cell_type": "markdown",
   "id": "55527542",
   "metadata": {},
   "source": [
    "## Current smoking habits"
   ]
  },
  {
   "cell_type": "code",
   "execution_count": 43,
   "id": "0ef9bd6b",
   "metadata": {},
   "outputs": [
    {
     "data": {
      "text/plain": [
       "Text(0, 0.5, 'Count')"
      ]
     },
     "execution_count": 43,
     "metadata": {},
     "output_type": "execute_result"
    },
    {
     "data": {
      "image/png": "[encoded data removed]",
      "text/plain": [
       "<Figure size 432x288 with 1 Axes>"
      ]
     },
     "metadata": {
      "needs_background": "light"
     },
     "output_type": "display_data"
    }
   ],
   "source": [
    "df.SMOKING.hist(bins=3)\n",
    "plt.title(\"Current Smoking Habits\")\n",
    "plt.xlabel('Current Smoking Habits')\n",
    "plt.ylabel('Count')"
   ]
  },
  {
   "cell_type": "markdown",
   "id": "9783ca67",
   "metadata": {},
   "source": [
    "## General Health"
   ]
  },
  {
   "cell_type": "code",
   "execution_count": 44,
   "id": "c7345009",
   "metadata": {},
   "outputs": [
    {
     "data": {
      "text/plain": [
       "Text(0, 0.5, 'Count')"
      ]
     },
     "execution_count": 44,
     "metadata": {},
     "output_type": "execute_result"
    },
    {
     "data": {
      "image/png": "[encoded data removed]",
      "text/plain": [
       "<Figure size 432x288 with 1 Axes>"
      ]
     },
     "metadata": {
      "needs_background": "light"
     },
     "output_type": "display_data"
    }
   ],
   "source": [
    "df.AB1.hist(bins=5)\n",
    "plt.title(\"General Health\")\n",
    "plt.xlabel('General Health')\n",
    "plt.ylabel('Count')"
   ]
  },
  {
   "cell_type": "markdown",
   "id": "ccfd4dab",
   "metadata": {},
   "source": [
    "## Poverty level, as percentage of federal poverty level (FPL)"
   ]
  },
  {
   "cell_type": "code",
   "execution_count": 45,
   "id": "1804de05",
   "metadata": {},
   "outputs": [
    {
     "data": {
      "text/plain": [
       "Text(0, 0.5, 'Count')"
      ]
     },
     "execution_count": 45,
     "metadata": {},
     "output_type": "execute_result"
    },
    {
     "data": {
      "image/png": "[encoded data removed]",
      "text/plain": [
       "<Figure size 432x288 with 1 Axes>"
      ]
     },
     "metadata": {
      "needs_background": "light"
     },
     "output_type": "display_data"
    }
   ],
   "source": [
    "df.POVLL.hist(bins=4)\n",
    "plt.title(\"Poverty Levels\")\n",
    "plt.xlabel('Poverty Levels')\n",
    "plt.ylabel('Count')"
   ]
  },
  {
   "cell_type": "markdown",
   "id": "9fc61217",
   "metadata": {},
   "source": [
    "## Depression"
   ]
  },
  {
   "cell_type": "code",
   "execution_count": 46,
   "id": "a929f317",
   "metadata": {},
   "outputs": [
    {
     "data": {
      "text/plain": [
       "Text(0, 0.5, 'Count')"
      ]
     },
     "execution_count": 46,
     "metadata": {},
     "output_type": "execute_result"
    },
    {
     "data": {
      "image/png": "[encoded data removed]",
      "text/plain": [
       "<Figure size 432x288 with 1 Axes>"
      ]
     },
     "metadata": {
      "needs_background": "light"
     },
     "output_type": "display_data"
    }
   ],
   "source": [
    "df.AJ32.hist(bins=5)\n",
    "plt.title(\"Depression\")\n",
    "plt.xlabel('Depression')\n",
    "plt.ylabel('Count')"
   ]
  },
  {
   "cell_type": "markdown",
   "id": "a5afebd6",
   "metadata": {},
   "source": [
    "##  Smoking vs Depression"
   ]
  },
  {
   "cell_type": "code",
   "execution_count": 33,
   "id": "95ccf407",
   "metadata": {},
   "outputs": [
    {
     "data": {
      "text/plain": [
       "<AxesSubplot:xlabel='SMOKING', ylabel='AJ32'>"
      ]
     },
     "execution_count": 33,
     "metadata": {},
     "output_type": "execute_result"
    },
    {
     "data": {
      "image/png": "[encoded data removed]",
      "text/plain": [
       "<Figure size 432x288 with 1 Axes>"
      ]
     },
     "metadata": {
      "needs_background": "light"
     },
     "output_type": "display_data"
    }
   ],
   "source": [
    "df.plot.scatter(x='SMOKING', y='AJ32')"
   ]
  },
  {
   "cell_type": "markdown",
   "id": "5cccbb3b",
   "metadata": {},
   "source": [
    "## Depression vs General Health"
   ]
  },
  {
   "cell_type": "code",
   "execution_count": 40,
   "id": "273152f6",
   "metadata": {
    "scrolled": false
   },
   "outputs": [
    {
     "data": {
      "text/plain": [
       "Text(0, 0.5, 'Depression')"
      ]
     },
     "execution_count": 40,
     "metadata": {},
     "output_type": "execute_result"
    },
    {
     "data": {
      "image/png": "[encoded data removed]",
      "text/plain": [
       "<Figure size 432x288 with 1 Axes>"
      ]
     },
     "metadata": {
      "needs_background": "light"
     },
     "output_type": "display_data"
    }
   ],
   "source": [
    "df.plot.box(x='AJ32', y='AB1')\n",
    "plt.title(\"Depression vs General Health\")\n",
    "plt.xlabel('General Health')\n",
    "plt.ylabel('Depression')"
   ]
  },
  {
   "cell_type": "markdown",
   "id": "9857cdd8",
   "metadata": {},
   "source": [
    "## Depression vs Smoking Habits"
   ]
  },
  {
   "cell_type": "code",
   "execution_count": 41,
   "id": "4281cf65",
   "metadata": {
    "scrolled": true
   },
   "outputs": [
    {
     "data": {
      "text/plain": [
       "Text(0, 0.5, 'Depression')"
      ]
     },
     "execution_count": 41,
     "metadata": {},
     "output_type": "execute_result"
    },
    {
     "data": {
      "image/png": "[encoded data removed]",
      "text/plain": [
       "<Figure size 432x288 with 1 Axes>"
      ]
     },
     "metadata": {
      "needs_background": "light"
     },
     "output_type": "display_data"
    }
   ],
   "source": [
    "df.plot.box(x='AJ32', y='SMOKING')\n",
    "plt.title(\"Depression vs Smoking Habits\")\n",
    "plt.xlabel('Smoking Habits')\n",
    "plt.ylabel('Depression')"
   ]
  },
  {
   "cell_type": "markdown",
   "id": "f6852e5e",
   "metadata": {},
   "source": [
    "## Depression vs Poverty"
   ]
  },
  {
   "cell_type": "code",
   "execution_count": 42,
   "id": "58bf9874",
   "metadata": {
    "scrolled": true
   },
   "outputs": [
    {
     "data": {
      "text/plain": [
       "Text(0, 0.5, 'Depression')"
      ]
     },
     "execution_count": 42,
     "metadata": {},
     "output_type": "execute_result"
    },
    {
     "data": {
      "image/png": "[encoded data removed]",
      "text/plain": [
       "<Figure size 432x288 with 1 Axes>"
      ]
     },
     "metadata": {
      "needs_background": "light"
     },
     "output_type": "display_data"
    }
   ],
   "source": [
    "df.plot.box(x='AJ32', y='POVLL')\n",
    "plt.title(\"Depression vs Poverty\")\n",
    "plt.xlabel('Poverty')\n",
    "plt.ylabel('Depression')"
   ]
  },
  {
   "cell_type": "markdown",
   "id": "96a91932",
   "metadata": {},
   "source": [
    "## Correlation Matrix"
   ]
  },
  {
   "cell_type": "code",
   "execution_count": 25,
   "id": "a7a7e746",
   "metadata": {
    "scrolled": true
   },
   "outputs": [
    {
     "data": {
      "text/html": [
       "<div>\n",
       "<style scoped>\n",
       "    .dataframe tbody tr th:only-of-type {\n",
       "        vertical-align: middle;\n",
       "    }\n",
       "\n",
       "    .dataframe tbody tr th {\n",
       "        vertical-align: top;\n",
       "    }\n",
       "\n",
       "    .dataframe thead th {\n",
       "        text-align: right;\n",
       "    }\n",
       "</style>\n",
       "<table border=\"1\" class=\"dataframe\">\n",
       "  <thead>\n",
       "    <tr style=\"text-align: right;\">\n",
       "      <th></th>\n",
       "      <th>SMOKING</th>\n",
       "      <th>AB1</th>\n",
       "      <th>POVLL</th>\n",
       "      <th>AJ32</th>\n",
       "    </tr>\n",
       "  </thead>\n",
       "  <tbody>\n",
       "    <tr>\n",
       "      <th>SMOKING</th>\n",
       "      <td>1.000000</td>\n",
       "      <td>-0.145927</td>\n",
       "      <td>0.059351</td>\n",
       "      <td>0.037362</td>\n",
       "    </tr>\n",
       "    <tr>\n",
       "      <th>AB1</th>\n",
       "      <td>-0.145927</td>\n",
       "      <td>1.000000</td>\n",
       "      <td>-0.211444</td>\n",
       "      <td>-0.197935</td>\n",
       "    </tr>\n",
       "    <tr>\n",
       "      <th>POVLL</th>\n",
       "      <td>0.059351</td>\n",
       "      <td>-0.211444</td>\n",
       "      <td>1.000000</td>\n",
       "      <td>0.135364</td>\n",
       "    </tr>\n",
       "    <tr>\n",
       "      <th>AJ32</th>\n",
       "      <td>0.037362</td>\n",
       "      <td>-0.197935</td>\n",
       "      <td>0.135364</td>\n",
       "      <td>1.000000</td>\n",
       "    </tr>\n",
       "  </tbody>\n",
       "</table>\n",
       "</div>"
      ],
      "text/plain": [
       "          SMOKING       AB1     POVLL      AJ32\n",
       "SMOKING  1.000000 -0.145927  0.059351  0.037362\n",
       "AB1     -0.145927  1.000000 -0.211444 -0.197935\n",
       "POVLL    0.059351 -0.211444  1.000000  0.135364\n",
       "AJ32     0.037362 -0.197935  0.135364  1.000000"
      ]
     },
     "execution_count": 25,
     "metadata": {},
     "output_type": "execute_result"
    }
   ],
   "source": [
    "df.corr()"
   ]
  }
 ],
 "metadata": {
  "kernelspec": {
   "display_name": "Python 3 (ipykernel)",
   "language": "python",
   "name": "python3"
  },
  "language_info": {
   "codemirror_mode": {
    "name": "ipython",
    "version": 3
   },
   "file_extension": ".py",
   "mimetype": "text/x-python",
   "name": "python",
   "nbconvert_exporter": "python",
   "pygments_lexer": "ipython3",
   "version": "3.9.7"
  }
 },
 "nbformat": 4,
 "nbformat_minor": 5
}
